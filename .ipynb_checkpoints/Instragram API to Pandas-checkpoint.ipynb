{
 "cells": [
  {
   "cell_type": "code",
   "execution_count": 1,
   "metadata": {
    "collapsed": true
   },
   "outputs": [],
   "source": [
    "import requests\n",
    "import json\n",
    "import urllib2\n",
    "import pandas as pd\n",
    "import numpy as np"
   ]
  },
  {
   "cell_type": "code",
   "execution_count": 2,
   "metadata": {
    "collapsed": true
   },
   "outputs": [],
   "source": [
    "clientid = 'INSERT CLIENT ID'\n",
    "access_token = 'INSERT ACCESS TOKEN'\n",
    "brandnames = ['INSERT LIST OF ACCOUNT NAMES']\n",
    "count = 33"
   ]
  },
  {
   "cell_type": "code",
   "execution_count": 3,
   "metadata": {
    "collapsed": false
   },
   "outputs": [],
   "source": [
    "# Getting User ID\n",
    "\n",
    "\n",
    "def userid(name, clientid):\n",
    "    user_id_api = 'https://api.instagram.com/v1/users/search?q=' + name + '&client_id=' + clientid\n",
    "    request = requests.get(user_id_api)\n",
    "    data = request.json()\n",
    "    for item in data['data']: \n",
    "        return item['id']"
   ]
  },
  {
   "cell_type": "code",
   "execution_count": 4,
   "metadata": {
    "collapsed": false
   },
   "outputs": [],
   "source": [
    "\n",
    "def userdetails(user_id):\n",
    "    api = 'https://api.instagram.com/v1/users/' + str(user_id) + '/?access_token=' + access_token\n",
    "    request = requests.get(api)\n",
    "    data = request.json()\n",
    "    return {'followed_by': data['data']['counts']['followed_by'], 'media': data['data']['counts']['media']}\n",
    "    "
   ]
  },
  {
   "cell_type": "code",
   "execution_count": 5,
   "metadata": {
    "collapsed": false
   },
   "outputs": [],
   "source": [
    "\n",
    "def followedby(user_id):\n",
    "    api = 'https://api.instagram.com/v1/users/' + str(user_id) + '/?access_token=' + access_token\n",
    "    request = requests.get(api)\n",
    "    data = request.json()\n",
    "    return {'followed_by': data['data']['counts']['followed_by']}"
   ]
  },
  {
   "cell_type": "code",
   "execution_count": 6,
   "metadata": {
    "collapsed": false
   },
   "outputs": [],
   "source": [
    "#get data from first api request\n",
    "\n",
    "def getfirstdata(access_token, user_id):\n",
    "    url = 'https://api.instagram.com/v1/users/' + str(user_id) + '/media/recent/?access_token=' + access_token + '&count=' + str(count)\n",
    "    request = requests.get(url)\n",
    "    data = request.json()\n",
    "    return data\n",
    "\n",
    "    \n",
    "    \n",
    "\n",
    "    "
   ]
  },
  {
   "cell_type": "code",
   "execution_count": 7,
   "metadata": {
    "collapsed": false
   },
   "outputs": [],
   "source": [
    "#function to extract data from json\n",
    "\n",
    "def getdataframe(data, _id):\n",
    "\n",
    "    \n",
    "    username = []\n",
    "    user_id =[]\n",
    "    link =[]\n",
    "    normallink =[]\n",
    "    tags =[]\n",
    "    text =[]\n",
    "    comments =[]\n",
    "    created_time = []\n",
    "    img_or_vid = []\n",
    "    likes =[]\n",
    "    users_in_photo = []\n",
    "    lat = []\n",
    "    lon = []\n",
    "    loc = []\n",
    "    \n",
    "   \n",
    "    \n",
    "    for item in data['data']:\n",
    "        \n",
    "        try:\n",
    "            username.append(item['caption']['from']['username'])\n",
    "        except (KeyError, ValueError, TypeError) as e:\n",
    "            username.append(np.NaN)\n",
    "        \n",
    "        try:\n",
    "            user_id.append(item['caption']['from']['id'])\n",
    "        except (KeyError, ValueError, TypeError) as e:\n",
    "            user_id.append(np.NaN)\n",
    "            \n",
    "        try:\n",
    "            link.append(item['images']['standard_resolution']['url'])\n",
    "        except (KeyError, ValueError, TypeError) as e:    \n",
    "            link.append(np.NaN)\n",
    "        \n",
    "        try:\n",
    "            tags.append(item['tags'])\n",
    "        except (KeyError, ValueError, TypeError) as e:    \n",
    "            tags.append(np.NaN)\n",
    "        \n",
    "        try:\n",
    "            text.append(item['caption']['text'])\n",
    "        except (KeyError, ValueError, TypeError) as e: \n",
    "            text.append(np.NaN)\n",
    "            \n",
    "        \n",
    "        try:\n",
    "            comments.append(item['comments']['count']) \n",
    "        except (KeyError, ValueError, TypeError) as e:   \n",
    "            comments.append(np.NaN)\n",
    "        \n",
    "        try:\n",
    "            created_time.append(item['created_time'])\n",
    "        except (KeyError, ValueError, TypeError) as e:\n",
    "            created_time.append(np.NaN)\n",
    "        \n",
    "        try:\n",
    "            img_or_vid.append(item['type']) \n",
    "        except (KeyError, ValueError, TypeError) as e: \n",
    "            img_or_vid.append(np.NaN)\n",
    "        \n",
    "        try:\n",
    "            likes.append(item['likes']['count'])\n",
    "        except (KeyError, ValueError, TypeError) as e:    \n",
    "            likes.append(np.NaN)\n",
    "        \n",
    "        try:\n",
    "            lat.append(item['location']['latitude'])\n",
    "        except (KeyError, ValueError, TypeError) as e:\n",
    "            lat.append(np.NaN)\n",
    "        \n",
    "        try:\n",
    "            lon.append(item['location']['longitude'])\n",
    "        except (KeyError, ValueError, TypeError) as e:\n",
    "            lon.append(np.NaN)\n",
    "        \n",
    "        try:\n",
    "            loc.append(item['location']['name'])\n",
    "        except (KeyError, ValueError, TypeError) as e:\n",
    "            loc.append(np.NaN)\n",
    "               \n",
    "        try:\n",
    "            normallink.append(item['link'])\n",
    "        except (KeyError, ValueError, TypeError) as e:\n",
    "            loc.append(np.NaN)\n",
    "            \n",
    "            \n",
    "    users_in_photo = []\n",
    "    try:\n",
    "        for item in data['data']:\n",
    "            templist = []\n",
    "            for item in item['users_in_photo']:\n",
    "                templist.append(item['user']['id'])\n",
    "            users_in_photo.append(len(templist))\n",
    "    except (KeyError, ValueError, TypeError) as e:\n",
    "        users_in_photo.append(np.NaN)\n",
    "    \n",
    "    \n",
    "    mediatotal = userdetails(_id)['media']\n",
    "    media = [mediatotal for i in range(len(username))]\n",
    "              \n",
    "    raw_data = {'username':username, 'likes':likes, 'comments':comments, 'img_or_vid':img_or_vid, 'link':link,\n",
    "        'tags':tags,'users_in_photo':users_in_photo, 'created_time':created_time, 'text':text, 'lat':lat, 'lon':lon, 'loc':loc, 'media':media, 'normallink':normallink, \n",
    "        }\n",
    "    \n",
    "    dftemp = pd.DataFrame(raw_data, columns = ['username', 'likes', 'comments', 'img_or_vid', 'link', 'tags','users_in_photo', 'created_time', 'text', 'lat', 'lon', 'loc','media','normallink'])\n",
    "    return dftemp\n",
    "    "
   ]
  },
  {
   "cell_type": "code",
   "execution_count": null,
   "metadata": {
    "collapsed": false
   },
   "outputs": [],
   "source": [
    "# function to extract data from multiple pages of instagram accoun\n",
    "\n",
    "def pagination(_id):\n",
    "    pagination_link = data['pagination']['next_url']    \n",
    "    request = requests.get(pagination_link)\n",
    "    global data\n",
    "    data = request.json()\n",
    "    dftemp = getdataframe(data, _id)\n",
    "    updated_df = pd.concat([df, dftemp], axis=0)\n",
    "    return updated_df\n",
    "\n",
    "    "
   ]
  },
  {
   "cell_type": "code",
   "execution_count": 8,
   "metadata": {
    "collapsed": false
   },
   "outputs": [
    {
     "name": "stderr",
     "output_type": "stream",
     "text": [
      "<ipython-input-8-8f70a7e6a58f>:4: SyntaxWarning: name 'data' is used prior to global declaration\n",
      "  global data\n"
     ]
    }
   ],
   "source": [
    "#create a list of the id's of instagram accounts\n",
    "\n",
    "brandnames_ids = []\n",
    "for name in brandnames:\n",
    "    brandnames_ids.append(userid(name, clientid))\n",
    "\n",
    "\n"
   ]
  },
  {
   "cell_type": "code",
   "execution_count": null,
   "metadata": {
    "collapsed": false
   },
   "outputs": [],
   "source": [
    "#Create Dataframe\n",
    "df = pd.DataFrame()\n",
    "\n",
    "\n"
   ]
  },
  {
   "cell_type": "code",
   "execution_count": 9,
   "metadata": {
    "collapsed": false
   },
   "outputs": [],
   "source": [
    "#Loop through all names to get all but first 300 images from each account\n",
    "\n",
    "for id_ in brandnames_ids[:1]:\n",
    "    data = getfirstdata(access_token, id_)\n",
    "    dftemp = getdataframe(data, id_)\n",
    "    df = pd.concat([df, dftemp], axis=0)\n",
    "    for i in range( (userdetails(id_)['media']-300)/33):\n",
    "        df = pagination(id_)\n",
    "    "
   ]
  },
  {
   "cell_type": "code",
   "execution_count": 15,
   "metadata": {
    "collapsed": false
   },
   "outputs": [],
   "source": [
    "df = df.reset_index(drop=True)"
   ]
  },
  {
   "cell_type": "code",
   "execution_count": null,
   "metadata": {
    "collapsed": false
   },
   "outputs": [],
   "source": [
    "#Save dataframe to csv\n",
    "\n",
    "df.to_csv(\"file.csv\", encoding=\"utf-8\") "
   ]
  },
  {
   "cell_type": "code",
   "execution_count": 16,
   "metadata": {
    "collapsed": false,
    "scrolled": true
   },
   "outputs": [],
   "source": [
    "# Download images from the 'link' column in the atarame\n",
    "import urllib\n",
    "\n",
    "for row in range(0,len(df['link'])):\n",
    "    url = df['link'][row]\n",
    "    filename = df['link'][row].split(\"/\")[-1]\n",
    "    urllib.urlretrieve(url, \"/INSERT/DESTINATION/PATH/%s.jpg\" % (filename))\n",
    "    \n",
    "    "
   ]
  },
  {
   "cell_type": "code",
   "execution_count": null,
   "metadata": {
    "collapsed": false
   },
   "outputs": [],
   "source": []
  },
  {
   "cell_type": "code",
   "execution_count": 18,
   "metadata": {
    "collapsed": false
   },
   "outputs": [],
   "source": []
  },
  {
   "cell_type": "code",
   "execution_count": null,
   "metadata": {
    "collapsed": false
   },
   "outputs": [],
   "source": []
  },
  {
   "cell_type": "code",
   "execution_count": null,
   "metadata": {
    "collapsed": false
   },
   "outputs": [],
   "source": []
  },
  {
   "cell_type": "code",
   "execution_count": null,
   "metadata": {
    "collapsed": false
   },
   "outputs": [],
   "source": []
  },
  {
   "cell_type": "code",
   "execution_count": null,
   "metadata": {
    "collapsed": false
   },
   "outputs": [],
   "source": []
  },
  {
   "cell_type": "code",
   "execution_count": null,
   "metadata": {
    "collapsed": false
   },
   "outputs": [],
   "source": []
  },
  {
   "cell_type": "code",
   "execution_count": null,
   "metadata": {
    "collapsed": false
   },
   "outputs": [],
   "source": []
  },
  {
   "cell_type": "code",
   "execution_count": null,
   "metadata": {
    "collapsed": false
   },
   "outputs": [],
   "source": []
  },
  {
   "cell_type": "code",
   "execution_count": null,
   "metadata": {
    "collapsed": false
   },
   "outputs": [],
   "source": []
  },
  {
   "cell_type": "code",
   "execution_count": null,
   "metadata": {
    "collapsed": false
   },
   "outputs": [],
   "source": []
  },
  {
   "cell_type": "code",
   "execution_count": null,
   "metadata": {
    "collapsed": false,
    "scrolled": true
   },
   "outputs": [],
   "source": []
  },
  {
   "cell_type": "code",
   "execution_count": null,
   "metadata": {
    "collapsed": false
   },
   "outputs": [],
   "source": []
  },
  {
   "cell_type": "code",
   "execution_count": 73,
   "metadata": {
    "collapsed": false
   },
   "outputs": [],
   "source": []
  },
  {
   "cell_type": "code",
   "execution_count": 74,
   "metadata": {
    "collapsed": false,
    "scrolled": true
   },
   "outputs": [],
   "source": [
    "\n"
   ]
  },
  {
   "cell_type": "code",
   "execution_count": null,
   "metadata": {
    "collapsed": false
   },
   "outputs": [],
   "source": []
  },
  {
   "cell_type": "code",
   "execution_count": null,
   "metadata": {
    "collapsed": false
   },
   "outputs": [],
   "source": [
    "\n"
   ]
  },
  {
   "cell_type": "code",
   "execution_count": null,
   "metadata": {
    "collapsed": false
   },
   "outputs": [],
   "source": []
  },
  {
   "cell_type": "code",
   "execution_count": null,
   "metadata": {
    "collapsed": false
   },
   "outputs": [],
   "source": []
  },
  {
   "cell_type": "code",
   "execution_count": null,
   "metadata": {
    "collapsed": false
   },
   "outputs": [],
   "source": []
  },
  {
   "cell_type": "code",
   "execution_count": null,
   "metadata": {
    "collapsed": false
   },
   "outputs": [],
   "source": []
  },
  {
   "cell_type": "code",
   "execution_count": null,
   "metadata": {
    "collapsed": false
   },
   "outputs": [],
   "source": []
  },
  {
   "cell_type": "code",
   "execution_count": null,
   "metadata": {
    "collapsed": false
   },
   "outputs": [],
   "source": []
  },
  {
   "cell_type": "code",
   "execution_count": 289,
   "metadata": {
    "collapsed": false
   },
   "outputs": [],
   "source": []
  },
  {
   "cell_type": "code",
   "execution_count": null,
   "metadata": {
    "collapsed": false
   },
   "outputs": [],
   "source": []
  },
  {
   "cell_type": "code",
   "execution_count": null,
   "metadata": {
    "collapsed": false
   },
   "outputs": [],
   "source": []
  },
  {
   "cell_type": "code",
   "execution_count": null,
   "metadata": {
    "collapsed": false
   },
   "outputs": [],
   "source": []
  },
  {
   "cell_type": "code",
   "execution_count": null,
   "metadata": {
    "collapsed": true
   },
   "outputs": [],
   "source": []
  },
  {
   "cell_type": "code",
   "execution_count": null,
   "metadata": {
    "collapsed": false
   },
   "outputs": [],
   "source": []
  },
  {
   "cell_type": "code",
   "execution_count": null,
   "metadata": {
    "collapsed": true
   },
   "outputs": [],
   "source": []
  },
  {
   "cell_type": "code",
   "execution_count": null,
   "metadata": {
    "collapsed": true
   },
   "outputs": [],
   "source": []
  }
 ],
 "metadata": {
  "kernelspec": {
   "display_name": "Python 2",
   "language": "python",
   "name": "python2"
  },
  "language_info": {
   "codemirror_mode": {
    "name": "ipython",
    "version": 2
   },
   "file_extension": ".py",
   "mimetype": "text/x-python",
   "name": "python",
   "nbconvert_exporter": "python",
   "pygments_lexer": "ipython2",
   "version": "2.7.11"
  }
 },
 "nbformat": 4,
 "nbformat_minor": 0
}
